{
 "cells": [
  {
   "cell_type": "code",
   "execution_count": null,
   "id": "7f90698d-72ef-4e23-81d0-4ee8337eb61c",
   "metadata": {},
   "outputs": [],
   "source": [
    "import flask\n",
    "import pandas as pd\n",
    "import splinter as spl\n",
    "from splinter import Browser\n",
    "from bs4 import BeautifulSoup as bs\n",
    "from webdriver_manager.chrome import ChromeDriverManager\n",
    "import pymongo\n",
    "marsdict={}"
   ]
  },
  {
   "cell_type": "code",
   "execution_count": null,
   "id": "79286f81-c24e-4e26-b5d5-144c49b767ec",
   "metadata": {
    "tags": []
   },
   "outputs": [],
   "source": [
    "# def scrape_info():\n",
    "    # Set up Splinter\n",
    "executable_path = {'executable_path': ChromeDriverManager().install()}\n",
    "browser = Browser('chrome', **executable_path, headless=False)\n",
    "# Visit redplanetscience.com\n",
    "url = \"https://redplanetscience.com/\"\n",
    "browser.visit(url)\n",
    "# Scrape page into soup\n",
    "html = browser.html\n",
    "soup = bs(html, \"html.parser\")\n",
    "# Get the article title and paragraph.\n",
    "news_title = soup.find('div', class_ = 'content_title').text.strip()\n",
    "news_p = soup.find('div', class_ = 'article_teaser_body').text.strip()\n",
    "browser.quit()\n",
    "#print((f'The title of the article is \"{(news_title)}\" and the paragraph is \"{(news_p)}\"'))\n",
    "marsdict['title'] = news_title\n",
    "marsdict['paragraph'] = news_p"
   ]
  },
  {
   "cell_type": "code",
   "execution_count": null,
   "id": "7675d9a6-314e-431c-a397-0ce06ffd04a2",
   "metadata": {},
   "outputs": [],
   "source": [
    "# Scrape featured image\n",
    "executable_path = {'executable_path': ChromeDriverManager().install()}\n",
    "browser = Browser('chrome', **executable_path, headless=False)\n",
    "url = \"https://spaceimages-mars.com/\"\n",
    "browser.visit(url)\n",
    "# Scrape page into soup\n",
    "html = browser.html\n",
    "soup = bs(html, \"html.parser\")\n",
    "# Get the featured image\n",
    "images = soup.find('div', class_='header')\n",
    "link = images.find_all('img')[1]\n",
    "href = link['src']\n",
    "featured_image_url ='https://spaceimages-mars.com/' + href\n",
    "browser.quit()\n",
    "marsdict['featured'] = featured_image_url\n",
    "#print(featured_image_url)"
   ]
  },
  {
   "cell_type": "code",
   "execution_count": null,
   "id": "81843854-ba3b-4134-889d-ec082feaee8b",
   "metadata": {},
   "outputs": [],
   "source": [
    "# Scrape table using pandas\n",
    "url = 'https://galaxyfacts-mars.com/'\n",
    "mars_table = pd.read_html(url)[1]\n",
    "mars_table = df.to_html()\n",
    "mars_table.replace('\\n', '')\n",
    "marsdict['table']=mars_table\n",
    "#mars_table\n",
    "mars_table"
   ]
  },
  {
   "cell_type": "code",
   "execution_count": null,
   "id": "671033a4-3083-44a8-8f1e-4b932b1e16bb",
   "metadata": {},
   "outputs": [],
   "source": [
    "# Iterate through picture links\n",
    "links = ['cerberus',\n",
    "            'schiaparelli',\n",
    "            'syrtis',\n",
    "            'valles']\n",
    "# Fill buckets with data\n",
    "hemisphere_titles = []\n",
    "hemisphere_urls = []\n",
    "\n",
    "for link in links:\n",
    "# Visit spaceimages-mars.com\n",
    "        executable_path = {'executable_path': ChromeDriverManager().install()}\n",
    "        browser = Browser('chrome', **executable_path, headless=False)\n",
    "        url = (f\"https://marshemispheres.com/{link}.html\")\n",
    "        browser.visit(url)\n",
    "      \n",
    "        # Scrape page into soup\n",
    "        html = browser.html\n",
    "        soup = bs(html, \"html.parser\")\n",
    "        # Get the hi-res images\n",
    "        images = soup.find('div', class_='downloads')\n",
    "        click = images.find_all('a')[1]\n",
    "        href = click['href']\n",
    "        imgurl ='https://marshemispheres.com/' + href\n",
    "        hemisphere_urls.append({\"img_url\": imgurl})\n",
    "        # Get titles\n",
    "        title = soup.find('div', class_='cover')\n",
    "        h2 = title.find('h2', class_='title').text.strip()\n",
    "        hemisphere_titles.append({'title': h2})\n",
    "        \n",
    "             \n",
    "        browser.quit()"
   ]
  },
  {
   "cell_type": "code",
   "execution_count": null,
   "id": "e5f0c105-6802-40fb-810e-79f46681b6dc",
   "metadata": {},
   "outputs": [],
   "source": [
    "hemisphere_titles"
   ]
  },
  {
   "cell_type": "code",
   "execution_count": null,
   "id": "38ea30f5-1fc4-4330-9cc9-59c969402c85",
   "metadata": {},
   "outputs": [],
   "source": [
    "hemisphere_urls"
   ]
  },
  {
   "cell_type": "code",
   "execution_count": null,
   "id": "b5b87690-d718-4576-8c3d-2d23c8f983cf",
   "metadata": {},
   "outputs": [],
   "source": [
    "# Fill dictionary manually\n",
    "hemisphere_image_urls = [\n",
    "    {'title': 'Cerberus Hemisphere Enhanced', 'img_url': 'https://marshemispheres.com/images/cerberus_enhanced.tif'},\n",
    "    {'title': 'Schiaparelli Hemisphere Enhanced', 'img_url': 'https://marshemispheres.com/images/schiaparelli_enhanced.tif'},\n",
    "    {'title': 'Syrtis Major Hemisphere Enhanced', 'img_url': 'https://marshemispheres.com/images/syrtis_major_enhanced.tif'},\n",
    "    {'title': 'Valles Marineris Hemisphere Enhanced', 'img_url': 'https://marshemispheres.com/images/valles_marineris_enhanced.tif'}\n",
    "]\n",
    "marsdict['hemisphere']=hemisphere_image_urls"
   ]
  },
  {
   "cell_type": "code",
   "execution_count": null,
   "id": "fc285f25-23db-47d8-8337-7d6cce6b4b1f",
   "metadata": {},
   "outputs": [],
   "source": [
    "marsdict"
   ]
  },
  {
   "cell_type": "code",
   "execution_count": null,
   "id": "16f87c8e-938c-4593-bccc-fa725238abee",
   "metadata": {},
   "outputs": [],
   "source": []
  }
 ],
 "metadata": {
  "kernelspec": {
   "display_name": "Python 3 (ipykernel)",
   "language": "python",
   "name": "python3"
  },
  "language_info": {
   "codemirror_mode": {
    "name": "ipython",
    "version": 3
   },
   "file_extension": ".py",
   "mimetype": "text/x-python",
   "name": "python",
   "nbconvert_exporter": "python",
   "pygments_lexer": "ipython3",
   "version": "3.9.7"
  }
 },
 "nbformat": 4,
 "nbformat_minor": 5
}
