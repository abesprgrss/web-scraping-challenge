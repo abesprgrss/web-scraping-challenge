{
 "cells": [
  {
   "cell_type": "code",
   "execution_count": 172,
   "id": "7f90698d-72ef-4e23-81d0-4ee8337eb61c",
   "metadata": {},
   "outputs": [],
   "source": [
    "import flask\n",
    "import pandas as pd\n",
    "import splinter as spl\n",
    "from splinter import Browser\n",
    "from bs4 import BeautifulSoup as bs\n",
    "from webdriver_manager.chrome import ChromeDriverManager"
   ]
  },
  {
   "cell_type": "code",
   "execution_count": 156,
   "id": "79286f81-c24e-4e26-b5d5-144c49b767ec",
   "metadata": {},
   "outputs": [
    {
     "name": "stdout",
     "output_type": "stream",
     "text": [
      "\n"
     ]
    },
    {
     "name": "stderr",
     "output_type": "stream",
     "text": [
      "[WDM] - ====== WebDriver manager ======\n",
      "INFO:WDM:====== WebDriver manager ======\n",
      "[WDM] - Current google-chrome version is 102.0.5005\n",
      "INFO:WDM:Current google-chrome version is 102.0.5005\n",
      "[WDM] - Get LATEST chromedriver version for 102.0.5005 google-chrome\n",
      "INFO:WDM:Get LATEST chromedriver version for 102.0.5005 google-chrome\n",
      "[WDM] - Driver [C:\\Users\\egera\\.wdm\\drivers\\chromedriver\\win32\\102.0.5005.61\\chromedriver.exe] found in cache\n",
      "INFO:WDM:Driver [C:\\Users\\egera\\.wdm\\drivers\\chromedriver\\win32\\102.0.5005.61\\chromedriver.exe] found in cache\n"
     ]
    }
   ],
   "source": [
    "# def scrape_info():\n",
    "    # Set up Splinter\n",
    "executable_path = {'executable_path': ChromeDriverManager().install()}\n",
    "browser = Browser('chrome', **executable_path, headless=False)\n",
    "# Visit redplanetscience.com\n",
    "url = \"https://redplanetscience.com/\"\n",
    "browser.visit(url)\n",
    "# Scrape page into soup\n",
    "html = browser.html\n",
    "soup = bs(html, \"html.parser\")\n",
    "# Get the article title and paragraph.\n",
    "news_title = soup.find('div', class_ = 'content_title')\n",
    "news_p = soup.find('div', class_ = 'article_teaser_body')\n",
    "browser.quit()"
   ]
  },
  {
   "cell_type": "code",
   "execution_count": null,
   "id": "7675d9a6-314e-431c-a397-0ce06ffd04a2",
   "metadata": {},
   "outputs": [],
   "source": [
    "# Scrape featured image\n",
    "executable_path = {'executable_path': ChromeDriverManager().install()}\n",
    "browser = Browser('chrome', **executable_path, headless=False)\n",
    "url = \"https://spaceimages-mars.com/\"\n",
    "browser.visit(url)\n",
    "# Scrape page into soup\n",
    "html = browser.html\n",
    "soup = bs(html, \"html.parser\")\n",
    "# Get the featured image\n",
    "images = soup.find('div', class_='header')\n",
    "link = images.find_all('img')[1]\n",
    "href = link['src']\n",
    "featured_image_url ='https://spaceimages-mars.com/' + href\n",
    "print(featured_image_url)\n",
    "browser.quit()"
   ]
  },
  {
   "cell_type": "code",
   "execution_count": null,
   "id": "7a55f030-0694-4ae1-aad7-aad2d24a3e86",
   "metadata": {},
   "outputs": [],
   "source": [
    "# Scrape table using pandas"
   ]
  },
  {
   "cell_type": "code",
   "execution_count": null,
   "id": "81843854-ba3b-4134-889d-ec082feaee8b",
   "metadata": {},
   "outputs": [],
   "source": [
    "url = 'https://galaxyfacts-mars.com/'\n",
    "df = pd.read_html(url)[1]\n",
    "html_table = df.to_html()\n",
    "html_table"
   ]
  },
  {
   "cell_type": "code",
   "execution_count": 199,
   "id": "671033a4-3083-44a8-8f1e-4b932b1e16bb",
   "metadata": {},
   "outputs": [
    {
     "name": "stdout",
     "output_type": "stream",
     "text": [
      "\n"
     ]
    },
    {
     "name": "stderr",
     "output_type": "stream",
     "text": [
      "[WDM] - ====== WebDriver manager ======\n",
      "INFO:WDM:====== WebDriver manager ======\n",
      "[WDM] - Current google-chrome version is 102.0.5005\n",
      "INFO:WDM:Current google-chrome version is 102.0.5005\n",
      "[WDM] - Get LATEST chromedriver version for 102.0.5005 google-chrome\n",
      "INFO:WDM:Get LATEST chromedriver version for 102.0.5005 google-chrome\n",
      "[WDM] - Driver [C:\\Users\\egera\\.wdm\\drivers\\chromedriver\\win32\\102.0.5005.61\\chromedriver.exe] found in cache\n",
      "INFO:WDM:Driver [C:\\Users\\egera\\.wdm\\drivers\\chromedriver\\win32\\102.0.5005.61\\chromedriver.exe] found in cache\n"
     ]
    },
    {
     "name": "stdout",
     "output_type": "stream",
     "text": [
      "\n"
     ]
    },
    {
     "name": "stderr",
     "output_type": "stream",
     "text": [
      "[WDM] - ====== WebDriver manager ======\n",
      "INFO:WDM:====== WebDriver manager ======\n",
      "[WDM] - Current google-chrome version is 102.0.5005\n",
      "INFO:WDM:Current google-chrome version is 102.0.5005\n",
      "[WDM] - Get LATEST chromedriver version for 102.0.5005 google-chrome\n",
      "INFO:WDM:Get LATEST chromedriver version for 102.0.5005 google-chrome\n",
      "[WDM] - Driver [C:\\Users\\egera\\.wdm\\drivers\\chromedriver\\win32\\102.0.5005.61\\chromedriver.exe] found in cache\n",
      "INFO:WDM:Driver [C:\\Users\\egera\\.wdm\\drivers\\chromedriver\\win32\\102.0.5005.61\\chromedriver.exe] found in cache\n"
     ]
    },
    {
     "name": "stdout",
     "output_type": "stream",
     "text": [
      "\n"
     ]
    },
    {
     "name": "stderr",
     "output_type": "stream",
     "text": [
      "[WDM] - ====== WebDriver manager ======\n",
      "INFO:WDM:====== WebDriver manager ======\n",
      "[WDM] - Current google-chrome version is 102.0.5005\n",
      "INFO:WDM:Current google-chrome version is 102.0.5005\n",
      "[WDM] - Get LATEST chromedriver version for 102.0.5005 google-chrome\n",
      "INFO:WDM:Get LATEST chromedriver version for 102.0.5005 google-chrome\n",
      "[WDM] - Driver [C:\\Users\\egera\\.wdm\\drivers\\chromedriver\\win32\\102.0.5005.61\\chromedriver.exe] found in cache\n",
      "INFO:WDM:Driver [C:\\Users\\egera\\.wdm\\drivers\\chromedriver\\win32\\102.0.5005.61\\chromedriver.exe] found in cache\n"
     ]
    },
    {
     "name": "stdout",
     "output_type": "stream",
     "text": [
      "\n"
     ]
    },
    {
     "name": "stderr",
     "output_type": "stream",
     "text": [
      "[WDM] - ====== WebDriver manager ======\n",
      "INFO:WDM:====== WebDriver manager ======\n",
      "[WDM] - Current google-chrome version is 102.0.5005\n",
      "INFO:WDM:Current google-chrome version is 102.0.5005\n",
      "[WDM] - Get LATEST chromedriver version for 102.0.5005 google-chrome\n",
      "INFO:WDM:Get LATEST chromedriver version for 102.0.5005 google-chrome\n",
      "[WDM] - Driver [C:\\Users\\egera\\.wdm\\drivers\\chromedriver\\win32\\102.0.5005.61\\chromedriver.exe] found in cache\n",
      "INFO:WDM:Driver [C:\\Users\\egera\\.wdm\\drivers\\chromedriver\\win32\\102.0.5005.61\\chromedriver.exe] found in cache\n"
     ]
    }
   ],
   "source": [
    "# Iterate through links\n",
    "links = ['Cerberus',\n",
    "            'Schiaparelli',\n",
    "            'Syrtis',\n",
    "            'Valles']\n",
    "for link in links:\n",
    "# Visit spaceimages-mars.com\n",
    "        executable_path = {'executable_path': ChromeDriverManager().install()}\n",
    "        browser = Browser('chrome', **executable_path, headless=False)\n",
    "        url = \"https://marshemispheres.com/\"\n",
    "        browser.visit(url)\n",
    "       \n",
    "        # Scrape page into soup\n",
    "        html = browser.html\n",
    "        soup = bs(html, \"html.parser\")\n",
    "        \n",
    "        # Click the image links\n",
    "        browser.links.find_by_partial_text(link).click()\n",
    "        \n",
    "        # Get the hi-res images\n",
    "        hiresimgs = soup.find('div', id_='wide-image')\n",
    "        \n",
    "        li = hiresimgs.find_all('li')[1]\n",
    "        \n",
    "        link = li.find('a')\n",
    "        \n",
    "        href = link['href']\n",
    "        \n",
    "        browser.quit()"
   ]
  },
  {
   "cell_type": "code",
   "execution_count": 166,
   "id": "b9a1cb2b-ed5b-406c-b7f2-8fd0347d49fc",
   "metadata": {},
   "outputs": [
    {
     "name": "stdout",
     "output_type": "stream",
     "text": [
      "<a class=\"itemLink product-item\" href=\"schiaparelli.html\"><img alt=\"Schiaparelli Hemisphere Enhanced thumbnail\" class=\"thumb\" src=\"images/08eac6e22c07fb1fe72223a79252de20_schiaparelli_enhanced.tif_thumb.png\"/></a>\n"
     ]
    }
   ],
   "source": [
    "    print(link)"
   ]
  },
  {
   "cell_type": "code",
   "execution_count": null,
   "id": "691d62f0-2ae3-4fbc-9028-64eaac598477",
   "metadata": {},
   "outputs": [],
   "source": [
    "         link = h3.find('a')\n",
    "            href = link['href']\n",
    "            title = link['title']\n",
    "            print('-----------')\n",
    "            print(title)\n",
    "            print('http://books.toscrape.com/' + href)\n",
    "\n",
    "    # Click the 'Next' button on each page\n",
    "    try:\n",
    "        browser.links.find_by_partial_text('next').click()\n",
    "          \n",
    "    except:\n",
    "        print(\"Scraping Complete\")\n",
    "                            "
   ]
  },
  {
   "cell_type": "code",
   "execution_count": 150,
   "id": "1bf5e614-8352-442a-8973-f276a3a598cb",
   "metadata": {},
   "outputs": [
    {
     "name": "stdout",
     "output_type": "stream",
     "text": [
      "<div class=\"collapsible results\">\n",
      " <div class=\"item\">\n",
      "  <a class=\"itemLink product-item\" href=\"cerberus.html\">\n",
      "   <img alt=\"Cerberus Hemisphere Enhanced thumbnail\" class=\"thumb\" src=\"images/39d3266553462198bd2fbc4d18fbed17_cerberus_enhanced.tif_thumb.png\"/>\n",
      "  </a>\n",
      "  <div class=\"description\">\n",
      "   <a class=\"itemLink product-item\" href=\"cerberus.html\">\n",
      "    <h3>\n",
      "     Cerberus Hemisphere Enhanced\n",
      "    </h3>\n",
      "   </a>\n",
      "   <span class=\"subtitle\" style=\"float:left\">\n",
      "    image/tiff 21 MB\n",
      "   </span>\n",
      "   <span class=\"pubDate\" style=\"float:right\">\n",
      "   </span>\n",
      "   <br/>\n",
      "   <p>\n",
      "    Mosaic of the Cerberus hemisphere of Mars projected into point perspective, a view similar to that which one would see from a spacecraft. This mosaic is composed of 104 Viking Orbiter images acquired…\n",
      "   </p>\n",
      "  </div>\n",
      "  <!-- end description -->\n",
      " </div>\n",
      " <div class=\"item\">\n",
      "  <a class=\"itemLink product-item\" href=\"schiaparelli.html\">\n",
      "   <img alt=\"Schiaparelli Hemisphere Enhanced thumbnail\" class=\"thumb\" src=\"images/08eac6e22c07fb1fe72223a79252de20_schiaparelli_enhanced.tif_thumb.png\"/>\n",
      "  </a>\n",
      "  <div class=\"description\">\n",
      "   <a class=\"itemLink product-item\" href=\"schiaparelli.html\">\n",
      "    <h3>\n",
      "     Schiaparelli Hemisphere Enhanced\n",
      "    </h3>\n",
      "   </a>\n",
      "   <span class=\"subtitle\" style=\"float:left\">\n",
      "    image/tiff 35 MB\n",
      "   </span>\n",
      "   <span class=\"pubDate\" style=\"float:right\">\n",
      "   </span>\n",
      "   <br/>\n",
      "   <p>\n",
      "    Mosaic of the Schiaparelli hemisphere of Mars projected into point perspective, a view similar to that which one would see from a spacecraft. The images were acquired in 1980 during early northern…\n",
      "   </p>\n",
      "  </div>\n",
      "  <!-- end description -->\n",
      " </div>\n",
      " <div class=\"item\">\n",
      "  <a class=\"itemLink product-item\" href=\"syrtis.html\">\n",
      "   <img alt=\"Syrtis Major Hemisphere Enhanced thumbnail\" class=\"thumb\" src=\"images/55a0a1e2796313fdeafb17c35925e8ac_syrtis_major_enhanced.tif_thumb.png\"/>\n",
      "  </a>\n",
      "  <div class=\"description\">\n",
      "   <a class=\"itemLink product-item\" href=\"syrtis.html\">\n",
      "    <h3>\n",
      "     Syrtis Major Hemisphere Enhanced\n",
      "    </h3>\n",
      "   </a>\n",
      "   <span class=\"subtitle\" style=\"float:left\">\n",
      "    image/tiff 25 MB\n",
      "   </span>\n",
      "   <span class=\"pubDate\" style=\"float:right\">\n",
      "   </span>\n",
      "   <br/>\n",
      "   <p>\n",
      "    Mosaic of the Syrtis Major hemisphere of Mars projected into point perspective, a view similar to that which one would see from a spacecraft. This mosaic is composed of about 100 red and violet…\n",
      "   </p>\n",
      "  </div>\n",
      "  <!-- end description -->\n",
      " </div>\n",
      " <div class=\"item\">\n",
      "  <a class=\"itemLink product-item\" href=\"valles.html\">\n",
      "   <img alt=\"Valles Marineris Hemisphere Enhanced thumbnail\" class=\"thumb\" src=\"images/4e59980c1c57f89c680c0e1ccabbeff1_valles_marineris_enhanced.tif_thumb.png\"/>\n",
      "  </a>\n",
      "  <div class=\"description\">\n",
      "   <a class=\"itemLink product-item\" href=\"valles.html\">\n",
      "    <h3>\n",
      "     Valles Marineris Hemisphere Enhanced\n",
      "    </h3>\n",
      "   </a>\n",
      "   <span class=\"subtitle\" style=\"float:left\">\n",
      "    image/tiff 27 MB\n",
      "   </span>\n",
      "   <span class=\"pubDate\" style=\"float:right\">\n",
      "   </span>\n",
      "   <br/>\n",
      "   <p>\n",
      "    Mosaic of the Valles Marineris hemisphere of Mars projected into point perspective, a view similar to that which one would see from a spacecraft. The distance is 2500 kilometers from the surface of…\n",
      "   </p>\n",
      "  </div>\n",
      "  <!-- end description -->\n",
      " </div>\n",
      "</div>\n",
      "\n"
     ]
    }
   ],
   "source": [
    "print(hiresimgs.prettify())"
   ]
  },
  {
   "cell_type": "code",
   "execution_count": null,
   "id": "0535a874-c6f5-4397-b0bf-78690aff5eab",
   "metadata": {},
   "outputs": [],
   "source": []
  },
  {
   "cell_type": "code",
   "execution_count": null,
   "id": "3c5c438c-cf49-41b6-836b-032a42203986",
   "metadata": {},
   "outputs": [],
   "source": []
  },
  {
   "cell_type": "code",
   "execution_count": null,
   "id": "1d9a45f9-c1de-4d23-a37e-dff0c1bec2bf",
   "metadata": {},
   "outputs": [],
   "source": [
    "# Get the max avg temp\n",
    "max_temp = avg_temps.find_all('strong')[1].text\n",
    "\n",
    "# BONUS: Find the src for the sloth image\n",
    "relative_image_path = soup.find_all('img')[2][\"src\"]\n",
    "sloth_img = url + relative_image_path\n",
    "\n",
    "# Store data in a dictionary\n",
    "costa_data = {\n",
    "    \"sloth_img\": sloth_img,\n",
    "    \"min_temp\": min_temp,\n",
    "    \"max_temp\": max_temp\n",
    "}\n",
    "\n",
    "# Close the browser after scraping\n",
    "browser.quit()\n",
    "\n",
    "# Return results\n",
    "return mars_data"
   ]
  }
 ],
 "metadata": {
  "kernelspec": {
   "display_name": "Python 3 (ipykernel)",
   "language": "python",
   "name": "python3"
  },
  "language_info": {
   "codemirror_mode": {
    "name": "ipython",
    "version": 3
   },
   "file_extension": ".py",
   "mimetype": "text/x-python",
   "name": "python",
   "nbconvert_exporter": "python",
   "pygments_lexer": "ipython3",
   "version": "3.9.7"
  }
 },
 "nbformat": 4,
 "nbformat_minor": 5
}
